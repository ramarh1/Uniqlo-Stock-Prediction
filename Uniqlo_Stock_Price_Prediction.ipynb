{
  "nbformat": 4,
  "nbformat_minor": 0,
  "metadata": {
    "colab": {
      "provenance": [],
      "authorship_tag": "ABX9TyPA3NhOuk/XjgFho2RXK4ME",
      "include_colab_link": true
    },
    "kernelspec": {
      "name": "python3",
      "display_name": "Python 3"
    },
    "language_info": {
      "name": "python"
    }
  },
  "cells": [
    {
      "cell_type": "markdown",
      "metadata": {
        "id": "view-in-github",
        "colab_type": "text"
      },
      "source": [
        "<a href=\"https://colab.research.google.com/github/ramarh1/Uniqlo-Stock-Prediction/blob/main/Uniqlo_Stock_Price_Prediction.ipynb\" target=\"_parent\"><img src=\"https://colab.research.google.com/assets/colab-badge.svg\" alt=\"Open In Colab\"/></a>"
      ]
    },
    {
      "cell_type": "code",
      "source": [
        "!pip install keras"
      ],
      "metadata": {
        "colab": {
          "base_uri": "https://localhost:8080/"
        },
        "id": "uFkBxp9lWUVP",
        "outputId": "42678782-b43e-4699-d51e-5f11f93ee544"
      },
      "execution_count": 18,
      "outputs": [
        {
          "output_type": "stream",
          "name": "stdout",
          "text": [
            "Looking in indexes: https://pypi.org/simple, https://us-python.pkg.dev/colab-wheels/public/simple/\n",
            "Requirement already satisfied: keras in /usr/local/lib/python3.9/dist-packages (2.11.0)\n"
          ]
        }
      ]
    },
    {
      "cell_type": "code",
      "execution_count": 52,
      "metadata": {
        "id": "ftlOhAe3UkJp"
      },
      "outputs": [],
      "source": [
        "import pandas as pd\n",
        "import numpy as np\n",
        "%matplotlib inline\n",
        "import matplotlib. pyplot as plt\n",
        "import matplotlib\n",
        "from sklearn.preprocessing import MinMaxScaler\n",
        "from keras.layers import LSTM, Dense, Dropout\n",
        "from sklearn.model_selection import TimeSeriesSplit\n",
        "from sklearn.metrics import mean_squared_error, r2_score, mean_absolute_percentage_error\n",
        "import matplotlib. dates as mandates\n",
        "from sklearn.preprocessing import MinMaxScaler\n",
        "from sklearn import linear_model\n",
        "from keras.models import Sequential\n",
        "from keras.layers import Dense\n",
        "import keras.backend as K\n",
        "from keras.callbacks import EarlyStopping\n",
        "from keras.optimizers import Adam\n",
        "from keras.models import load_model\n",
        "from keras.layers import LSTM\n",
        "from keras.utils.vis_utils import plot_model"
      ]
    },
    {
      "cell_type": "code",
      "source": [
        "url = 'https://raw.githubusercontent.com/ramarh1/Uniqlo-Stock-Prediction/main/Uniqlo_2012-2016.csv'"
      ],
      "metadata": {
        "id": "jllTAwelWBi_"
      },
      "execution_count": 20,
      "outputs": []
    },
    {
      "cell_type": "code",
      "source": [
        "url2 = 'https://raw.githubusercontent.com/ramarh1/Uniqlo-Stock-Prediction/main/Uniqlo_2017.csv%20.csv'"
      ],
      "metadata": {
        "id": "dzCHhv1YlBPc"
      },
      "execution_count": 43,
      "outputs": []
    },
    {
      "cell_type": "code",
      "source": [
        "df = pd.read_csv(url, na_values=['null'],index_col='Date',parse_dates=True,infer_datetime_format=True)"
      ],
      "metadata": {
        "id": "HAyw3x33W4Yi"
      },
      "execution_count": 21,
      "outputs": []
    },
    {
      "cell_type": "code",
      "source": [
        "df2 = pd.read_csv(url, na_values=['null'],index_col='Date',parse_dates=True,infer_datetime_format=True)"
      ],
      "metadata": {
        "id": "nmderayZlEps"
      },
      "execution_count": 44,
      "outputs": []
    },
    {
      "cell_type": "code",
      "source": [
        "df.head()"
      ],
      "metadata": {
        "colab": {
          "base_uri": "https://localhost:8080/",
          "height": 238
        },
        "id": "QYKqHsvNab7l",
        "outputId": "21d095db-4520-4ea6-aa8c-7f8f3748e081"
      },
      "execution_count": 22,
      "outputs": [
        {
          "output_type": "execute_result",
          "data": {
            "text/plain": [
              "             Open   High    Low  Close  Volume  Stock Trading\n",
              "Date                                                         \n",
              "2016-12-30  42120  42330  41700  41830  610000    25628028000\n",
              "2016-12-29  43000  43220  42540  42660  448400    19188227000\n",
              "2016-12-28  43940  43970  43270  43270  339900    14780670000\n",
              "2016-12-27  43140  43700  43140  43620  400100    17427993000\n",
              "2016-12-26  43310  43660  43090  43340  358200    15547803000"
            ],
            "text/html": [
              "\n",
              "  <div id=\"df-6707e22a-6522-4dd5-85c1-29a6c60a5fd1\">\n",
              "    <div class=\"colab-df-container\">\n",
              "      <div>\n",
              "<style scoped>\n",
              "    .dataframe tbody tr th:only-of-type {\n",
              "        vertical-align: middle;\n",
              "    }\n",
              "\n",
              "    .dataframe tbody tr th {\n",
              "        vertical-align: top;\n",
              "    }\n",
              "\n",
              "    .dataframe thead th {\n",
              "        text-align: right;\n",
              "    }\n",
              "</style>\n",
              "<table border=\"1\" class=\"dataframe\">\n",
              "  <thead>\n",
              "    <tr style=\"text-align: right;\">\n",
              "      <th></th>\n",
              "      <th>Open</th>\n",
              "      <th>High</th>\n",
              "      <th>Low</th>\n",
              "      <th>Close</th>\n",
              "      <th>Volume</th>\n",
              "      <th>Stock Trading</th>\n",
              "    </tr>\n",
              "    <tr>\n",
              "      <th>Date</th>\n",
              "      <th></th>\n",
              "      <th></th>\n",
              "      <th></th>\n",
              "      <th></th>\n",
              "      <th></th>\n",
              "      <th></th>\n",
              "    </tr>\n",
              "  </thead>\n",
              "  <tbody>\n",
              "    <tr>\n",
              "      <th>2016-12-30</th>\n",
              "      <td>42120</td>\n",
              "      <td>42330</td>\n",
              "      <td>41700</td>\n",
              "      <td>41830</td>\n",
              "      <td>610000</td>\n",
              "      <td>25628028000</td>\n",
              "    </tr>\n",
              "    <tr>\n",
              "      <th>2016-12-29</th>\n",
              "      <td>43000</td>\n",
              "      <td>43220</td>\n",
              "      <td>42540</td>\n",
              "      <td>42660</td>\n",
              "      <td>448400</td>\n",
              "      <td>19188227000</td>\n",
              "    </tr>\n",
              "    <tr>\n",
              "      <th>2016-12-28</th>\n",
              "      <td>43940</td>\n",
              "      <td>43970</td>\n",
              "      <td>43270</td>\n",
              "      <td>43270</td>\n",
              "      <td>339900</td>\n",
              "      <td>14780670000</td>\n",
              "    </tr>\n",
              "    <tr>\n",
              "      <th>2016-12-27</th>\n",
              "      <td>43140</td>\n",
              "      <td>43700</td>\n",
              "      <td>43140</td>\n",
              "      <td>43620</td>\n",
              "      <td>400100</td>\n",
              "      <td>17427993000</td>\n",
              "    </tr>\n",
              "    <tr>\n",
              "      <th>2016-12-26</th>\n",
              "      <td>43310</td>\n",
              "      <td>43660</td>\n",
              "      <td>43090</td>\n",
              "      <td>43340</td>\n",
              "      <td>358200</td>\n",
              "      <td>15547803000</td>\n",
              "    </tr>\n",
              "  </tbody>\n",
              "</table>\n",
              "</div>\n",
              "      <button class=\"colab-df-convert\" onclick=\"convertToInteractive('df-6707e22a-6522-4dd5-85c1-29a6c60a5fd1')\"\n",
              "              title=\"Convert this dataframe to an interactive table.\"\n",
              "              style=\"display:none;\">\n",
              "        \n",
              "  <svg xmlns=\"http://www.w3.org/2000/svg\" height=\"24px\"viewBox=\"0 0 24 24\"\n",
              "       width=\"24px\">\n",
              "    <path d=\"M0 0h24v24H0V0z\" fill=\"none\"/>\n",
              "    <path d=\"M18.56 5.44l.94 2.06.94-2.06 2.06-.94-2.06-.94-.94-2.06-.94 2.06-2.06.94zm-11 1L8.5 8.5l.94-2.06 2.06-.94-2.06-.94L8.5 2.5l-.94 2.06-2.06.94zm10 10l.94 2.06.94-2.06 2.06-.94-2.06-.94-.94-2.06-.94 2.06-2.06.94z\"/><path d=\"M17.41 7.96l-1.37-1.37c-.4-.4-.92-.59-1.43-.59-.52 0-1.04.2-1.43.59L10.3 9.45l-7.72 7.72c-.78.78-.78 2.05 0 2.83L4 21.41c.39.39.9.59 1.41.59.51 0 1.02-.2 1.41-.59l7.78-7.78 2.81-2.81c.8-.78.8-2.07 0-2.86zM5.41 20L4 18.59l7.72-7.72 1.47 1.35L5.41 20z\"/>\n",
              "  </svg>\n",
              "      </button>\n",
              "      \n",
              "  <style>\n",
              "    .colab-df-container {\n",
              "      display:flex;\n",
              "      flex-wrap:wrap;\n",
              "      gap: 12px;\n",
              "    }\n",
              "\n",
              "    .colab-df-convert {\n",
              "      background-color: #E8F0FE;\n",
              "      border: none;\n",
              "      border-radius: 50%;\n",
              "      cursor: pointer;\n",
              "      display: none;\n",
              "      fill: #1967D2;\n",
              "      height: 32px;\n",
              "      padding: 0 0 0 0;\n",
              "      width: 32px;\n",
              "    }\n",
              "\n",
              "    .colab-df-convert:hover {\n",
              "      background-color: #E2EBFA;\n",
              "      box-shadow: 0px 1px 2px rgba(60, 64, 67, 0.3), 0px 1px 3px 1px rgba(60, 64, 67, 0.15);\n",
              "      fill: #174EA6;\n",
              "    }\n",
              "\n",
              "    [theme=dark] .colab-df-convert {\n",
              "      background-color: #3B4455;\n",
              "      fill: #D2E3FC;\n",
              "    }\n",
              "\n",
              "    [theme=dark] .colab-df-convert:hover {\n",
              "      background-color: #434B5C;\n",
              "      box-shadow: 0px 1px 3px 1px rgba(0, 0, 0, 0.15);\n",
              "      filter: drop-shadow(0px 1px 2px rgba(0, 0, 0, 0.3));\n",
              "      fill: #FFFFFF;\n",
              "    }\n",
              "  </style>\n",
              "\n",
              "      <script>\n",
              "        const buttonEl =\n",
              "          document.querySelector('#df-6707e22a-6522-4dd5-85c1-29a6c60a5fd1 button.colab-df-convert');\n",
              "        buttonEl.style.display =\n",
              "          google.colab.kernel.accessAllowed ? 'block' : 'none';\n",
              "\n",
              "        async function convertToInteractive(key) {\n",
              "          const element = document.querySelector('#df-6707e22a-6522-4dd5-85c1-29a6c60a5fd1');\n",
              "          const dataTable =\n",
              "            await google.colab.kernel.invokeFunction('convertToInteractive',\n",
              "                                                     [key], {});\n",
              "          if (!dataTable) return;\n",
              "\n",
              "          const docLinkHtml = 'Like what you see? Visit the ' +\n",
              "            '<a target=\"_blank\" href=https://colab.research.google.com/notebooks/data_table.ipynb>data table notebook</a>'\n",
              "            + ' to learn more about interactive tables.';\n",
              "          element.innerHTML = '';\n",
              "          dataTable['output_type'] = 'display_data';\n",
              "          await google.colab.output.renderOutput(dataTable, element);\n",
              "          const docLink = document.createElement('div');\n",
              "          docLink.innerHTML = docLinkHtml;\n",
              "          element.appendChild(docLink);\n",
              "        }\n",
              "      </script>\n",
              "    </div>\n",
              "  </div>\n",
              "  "
            ]
          },
          "metadata": {},
          "execution_count": 22
        }
      ]
    },
    {
      "cell_type": "code",
      "source": [
        "df.shape"
      ],
      "metadata": {
        "id": "gYatigPHeTJt",
        "outputId": "154594cd-6991-466a-853f-d109b84f26d2",
        "colab": {
          "base_uri": "https://localhost:8080/"
        }
      },
      "execution_count": 24,
      "outputs": [
        {
          "output_type": "execute_result",
          "data": {
            "text/plain": [
              "(1226, 6)"
            ]
          },
          "metadata": {},
          "execution_count": 24
        }
      ]
    },
    {
      "cell_type": "code",
      "source": [
        "df.isnull().values.any()"
      ],
      "metadata": {
        "colab": {
          "base_uri": "https://localhost:8080/"
        },
        "id": "4Emel9Q4ahsv",
        "outputId": "d4f34f30-1fd9-450b-d860-d08f2f1755d6"
      },
      "execution_count": 23,
      "outputs": [
        {
          "output_type": "execute_result",
          "data": {
            "text/plain": [
              "False"
            ]
          },
          "metadata": {},
          "execution_count": 23
        }
      ]
    },
    {
      "cell_type": "code",
      "source": [
        "df['Close'].plot()\n",
        "df['Open'].plot()"
      ],
      "metadata": {
        "colab": {
          "base_uri": "https://localhost:8080/",
          "height": 287
        },
        "id": "XRBew6JSbkHD",
        "outputId": "4c0008c3-3e8a-4594-ada4-a3155537ac89"
      },
      "execution_count": 38,
      "outputs": [
        {
          "output_type": "execute_result",
          "data": {
            "text/plain": [
              "<Axes: xlabel='Date'>"
            ]
          },
          "metadata": {},
          "execution_count": 38
        },
        {
          "output_type": "display_data",
          "data": {
            "text/plain": [
              "<Figure size 432x288 with 1 Axes>"
            ],
            "image/png": "[encoded data removed]"
          },
          "metadata": {
            "needs_background": "light"
          }
        }
      ]
    },
    {
      "cell_type": "code",
      "source": [
        "output_var = pd.DataFrame(df['Close'])\n",
        "features = ['Open', 'High', 'Low', 'Volume']"
      ],
      "metadata": {
        "id": "TRFECrKGeiuO"
      },
      "execution_count": 27,
      "outputs": []
    },
    {
      "cell_type": "code",
      "source": [
        "scaler = MinMaxScaler()\n",
        "feature_transform = scaler.fit_transform(df[features])\n",
        "feature_transform = pd.DataFrame(columns=features,data=feature_transform,index=df.index)\n",
        "feature_transform.head()"
      ],
      "metadata": {
        "id": "8YNE88P1ezan",
        "outputId": "2e041c75-dbfd-4b08-c1b1-92433077cbc1",
        "colab": {
          "base_uri": "https://localhost:8080/",
          "height": 238
        }
      },
      "execution_count": 28,
      "outputs": [
        {
          "output_type": "execute_result",
          "data": {
            "text/plain": [
              "                Open      High       Low    Volume\n",
              "Date                                              \n",
              "2016-12-30  0.593770  0.591938  0.596097  0.098141\n",
              "2016-12-29  0.612168  0.610430  0.613916  0.064462\n",
              "2016-12-28  0.631821  0.626013  0.629402  0.041849\n",
              "2016-12-27  0.615095  0.620403  0.626644  0.054395\n",
              "2016-12-26  0.618649  0.619572  0.625583  0.045663"
            ],
            "text/html": [
              "\n",
              "  <div id=\"df-93a10eab-71b5-40e3-a91a-1262233afbc8\">\n",
              "    <div class=\"colab-df-container\">\n",
              "      <div>\n",
              "<style scoped>\n",
              "    .dataframe tbody tr th:only-of-type {\n",
              "        vertical-align: middle;\n",
              "    }\n",
              "\n",
              "    .dataframe tbody tr th {\n",
              "        vertical-align: top;\n",
              "    }\n",
              "\n",
              "    .dataframe thead th {\n",
              "        text-align: right;\n",
              "    }\n",
              "</style>\n",
              "<table border=\"1\" class=\"dataframe\">\n",
              "  <thead>\n",
              "    <tr style=\"text-align: right;\">\n",
              "      <th></th>\n",
              "      <th>Open</th>\n",
              "      <th>High</th>\n",
              "      <th>Low</th>\n",
              "      <th>Volume</th>\n",
              "    </tr>\n",
              "    <tr>\n",
              "      <th>Date</th>\n",
              "      <th></th>\n",
              "      <th></th>\n",
              "      <th></th>\n",
              "      <th></th>\n",
              "    </tr>\n",
              "  </thead>\n",
              "  <tbody>\n",
              "    <tr>\n",
              "      <th>2016-12-30</th>\n",
              "      <td>0.593770</td>\n",
              "      <td>0.591938</td>\n",
              "      <td>0.596097</td>\n",
              "      <td>0.098141</td>\n",
              "    </tr>\n",
              "    <tr>\n",
              "      <th>2016-12-29</th>\n",
              "      <td>0.612168</td>\n",
              "      <td>0.610430</td>\n",
              "      <td>0.613916</td>\n",
              "      <td>0.064462</td>\n",
              "    </tr>\n",
              "    <tr>\n",
              "      <th>2016-12-28</th>\n",
              "      <td>0.631821</td>\n",
              "      <td>0.626013</td>\n",
              "      <td>0.629402</td>\n",
              "      <td>0.041849</td>\n",
              "    </tr>\n",
              "    <tr>\n",
              "      <th>2016-12-27</th>\n",
              "      <td>0.615095</td>\n",
              "      <td>0.620403</td>\n",
              "      <td>0.626644</td>\n",
              "      <td>0.054395</td>\n",
              "    </tr>\n",
              "    <tr>\n",
              "      <th>2016-12-26</th>\n",
              "      <td>0.618649</td>\n",
              "      <td>0.619572</td>\n",
              "      <td>0.625583</td>\n",
              "      <td>0.045663</td>\n",
              "    </tr>\n",
              "  </tbody>\n",
              "</table>\n",
              "</div>\n",
              "      <button class=\"colab-df-convert\" onclick=\"convertToInteractive('df-93a10eab-71b5-40e3-a91a-1262233afbc8')\"\n",
              "              title=\"Convert this dataframe to an interactive table.\"\n",
              "              style=\"display:none;\">\n",
              "        \n",
              "  <svg xmlns=\"http://www.w3.org/2000/svg\" height=\"24px\"viewBox=\"0 0 24 24\"\n",
              "       width=\"24px\">\n",
              "    <path d=\"M0 0h24v24H0V0z\" fill=\"none\"/>\n",
              "    <path d=\"M18.56 5.44l.94 2.06.94-2.06 2.06-.94-2.06-.94-.94-2.06-.94 2.06-2.06.94zm-11 1L8.5 8.5l.94-2.06 2.06-.94-2.06-.94L8.5 2.5l-.94 2.06-2.06.94zm10 10l.94 2.06.94-2.06 2.06-.94-2.06-.94-.94-2.06-.94 2.06-2.06.94z\"/><path d=\"M17.41 7.96l-1.37-1.37c-.4-.4-.92-.59-1.43-.59-.52 0-1.04.2-1.43.59L10.3 9.45l-7.72 7.72c-.78.78-.78 2.05 0 2.83L4 21.41c.39.39.9.59 1.41.59.51 0 1.02-.2 1.41-.59l7.78-7.78 2.81-2.81c.8-.78.8-2.07 0-2.86zM5.41 20L4 18.59l7.72-7.72 1.47 1.35L5.41 20z\"/>\n",
              "  </svg>\n",
              "      </button>\n",
              "      \n",
              "  <style>\n",
              "    .colab-df-container {\n",
              "      display:flex;\n",
              "      flex-wrap:wrap;\n",
              "      gap: 12px;\n",
              "    }\n",
              "\n",
              "    .colab-df-convert {\n",
              "      background-color: #E8F0FE;\n",
              "      border: none;\n",
              "      border-radius: 50%;\n",
              "      cursor: pointer;\n",
              "      display: none;\n",
              "      fill: #1967D2;\n",
              "      height: 32px;\n",
              "      padding: 0 0 0 0;\n",
              "      width: 32px;\n",
              "    }\n",
              "\n",
              "    .colab-df-convert:hover {\n",
              "      background-color: #E2EBFA;\n",
              "      box-shadow: 0px 1px 2px rgba(60, 64, 67, 0.3), 0px 1px 3px 1px rgba(60, 64, 67, 0.15);\n",
              "      fill: #174EA6;\n",
              "    }\n",
              "\n",
              "    [theme=dark] .colab-df-convert {\n",
              "      background-color: #3B4455;\n",
              "      fill: #D2E3FC;\n",
              "    }\n",
              "\n",
              "    [theme=dark] .colab-df-convert:hover {\n",
              "      background-color: #434B5C;\n",
              "      box-shadow: 0px 1px 3px 1px rgba(0, 0, 0, 0.15);\n",
              "      filter: drop-shadow(0px 1px 2px rgba(0, 0, 0, 0.3));\n",
              "      fill: #FFFFFF;\n",
              "    }\n",
              "  </style>\n",
              "\n",
              "      <script>\n",
              "        const buttonEl =\n",
              "          document.querySelector('#df-93a10eab-71b5-40e3-a91a-1262233afbc8 button.colab-df-convert');\n",
              "        buttonEl.style.display =\n",
              "          google.colab.kernel.accessAllowed ? 'block' : 'none';\n",
              "\n",
              "        async function convertToInteractive(key) {\n",
              "          const element = document.querySelector('#df-93a10eab-71b5-40e3-a91a-1262233afbc8');\n",
              "          const dataTable =\n",
              "            await google.colab.kernel.invokeFunction('convertToInteractive',\n",
              "                                                     [key], {});\n",
              "          if (!dataTable) return;\n",
              "\n",
              "          const docLinkHtml = 'Like what you see? Visit the ' +\n",
              "            '<a target=\"_blank\" href=https://colab.research.google.com/notebooks/data_table.ipynb>data table notebook</a>'\n",
              "            + ' to learn more about interactive tables.';\n",
              "          element.innerHTML = '';\n",
              "          dataTable['output_type'] = 'display_data';\n",
              "          await google.colab.output.renderOutput(dataTable, element);\n",
              "          const docLink = document.createElement('div');\n",
              "          docLink.innerHTML = docLinkHtml;\n",
              "          element.appendChild(docLink);\n",
              "        }\n",
              "      </script>\n",
              "    </div>\n",
              "  </div>\n",
              "  "
            ]
          },
          "metadata": {},
          "execution_count": 28
        }
      ]
    },
    {
      "cell_type": "code",
      "source": [
        "timesplit= TimeSeriesSplit(n_splits=10)\n",
        "for train_index, test_index in timesplit.split(feature_transform):\n",
        "        X_train, X_test = feature_transform[:len(train_index)], feature_transform[len(train_index): (len(train_index)+len(test_index))]\n",
        "        y_train, y_test = output_var[:len(train_index)].values.ravel(), output_var[len(train_index): (len(train_index)+len(test_index))].values.ravel()"
      ],
      "metadata": {
        "id": "Y4yieX5Wh3x_"
      },
      "execution_count": 29,
      "outputs": []
    },
    {
      "cell_type": "code",
      "source": [
        "trainX =np.array(X_train)\n",
        "testX =np.array(X_test)\n",
        "X_train = trainX.reshape(X_train.shape[0], 1, X_train.shape[1])\n",
        "X_test = testX.reshape(X_test.shape[0], 1, X_test.shape[1])"
      ],
      "metadata": {
        "id": "ka6LPKpeh9Nk"
      },
      "execution_count": 30,
      "outputs": []
    },
    {
      "cell_type": "code",
      "source": [
        "lstm = Sequential()\n",
        "lstm.add(LSTM(50, input_shape=(1, trainX.shape[1]), activation='relu', return_sequences=True))\n",
        "lstm.add(LSTM(50,activation='relu'))\n",
        "lstm.add(Dense(1))\n",
        "lstm.compile(loss='mean_squared_error', optimizer='adam')\n",
        "lstm.summary()"
      ],
      "metadata": {
        "id": "VDCPsQhGiB8h",
        "outputId": "d92b9e75-121b-4f68-ed0d-7a9a9f529ac3",
        "colab": {
          "base_uri": "https://localhost:8080/"
        }
      },
      "execution_count": 45,
      "outputs": [
        {
          "output_type": "stream",
          "name": "stdout",
          "text": [
            "Model: \"sequential_2\"\n",
            "_________________________________________________________________\n",
            " Layer (type)                Output Shape              Param #   \n",
            "=================================================================\n",
            " lstm_2 (LSTM)               (None, 1, 50)             11000     \n",
            "                                                                 \n",
            " lstm_3 (LSTM)               (None, 50)                20200     \n",
            "                                                                 \n",
            " dense_2 (Dense)             (None, 1)                 51        \n",
            "                                                                 \n",
            "=================================================================\n",
            "Total params: 31,251\n",
            "Trainable params: 31,251\n",
            "Non-trainable params: 0\n",
            "_________________________________________________________________\n"
          ]
        }
      ]
    },
    {
      "cell_type": "code",
      "source": [
        "history=lstm.fit(X_train, y_train, epochs=100, batch_size=4, verbose=2, shuffle=False)"
      ],
      "metadata": {
        "id": "VrSk-2O5iHsm",
        "outputId": "ba119bb8-f6c1-4b84-abe6-d4e629e642b6",
        "colab": {
          "base_uri": "https://localhost:8080/"
        }
      },
      "execution_count": 46,
      "outputs": [
        {
          "output_type": "stream",
          "name": "stdout",
          "text": [
            "Epoch 1/100\n",
            "279/279 - 5s - loss: 1353095168.0000 - 5s/epoch - 16ms/step\n",
            "Epoch 2/100\n",
            "279/279 - 1s - loss: 1320574080.0000 - 907ms/epoch - 3ms/step\n",
            "Epoch 3/100\n",
            "279/279 - 1s - loss: 1181908736.0000 - 900ms/epoch - 3ms/step\n",
            "Epoch 4/100\n",
            "279/279 - 1s - loss: 915729152.0000 - 885ms/epoch - 3ms/step\n",
            "Epoch 5/100\n",
            "279/279 - 1s - loss: 583392640.0000 - 871ms/epoch - 3ms/step\n",
            "Epoch 6/100\n",
            "279/279 - 1s - loss: 285392032.0000 - 872ms/epoch - 3ms/step\n",
            "Epoch 7/100\n",
            "279/279 - 1s - loss: 98955392.0000 - 856ms/epoch - 3ms/step\n",
            "Epoch 8/100\n",
            "279/279 - 1s - loss: 23928068.0000 - 821ms/epoch - 3ms/step\n",
            "Epoch 9/100\n",
            "279/279 - 1s - loss: 5860883.5000 - 846ms/epoch - 3ms/step\n",
            "Epoch 10/100\n",
            "279/279 - 1s - loss: 3126186.0000 - 841ms/epoch - 3ms/step\n",
            "Epoch 11/100\n",
            "279/279 - 1s - loss: 2713066.5000 - 1s/epoch - 4ms/step\n",
            "Epoch 12/100\n",
            "279/279 - 1s - loss: 2550260.2500 - 1s/epoch - 5ms/step\n",
            "Epoch 13/100\n",
            "279/279 - 1s - loss: 2413617.2500 - 1s/epoch - 4ms/step\n",
            "Epoch 14/100\n",
            "279/279 - 1s - loss: 2277222.7500 - 859ms/epoch - 3ms/step\n",
            "Epoch 15/100\n",
            "279/279 - 1s - loss: 2139227.5000 - 890ms/epoch - 3ms/step\n",
            "Epoch 16/100\n",
            "279/279 - 1s - loss: 2001901.0000 - 863ms/epoch - 3ms/step\n",
            "Epoch 17/100\n",
            "279/279 - 1s - loss: 1867990.0000 - 857ms/epoch - 3ms/step\n",
            "Epoch 18/100\n",
            "279/279 - 1s - loss: 1739897.5000 - 866ms/epoch - 3ms/step\n",
            "Epoch 19/100\n",
            "279/279 - 1s - loss: 1619304.8750 - 816ms/epoch - 3ms/step\n",
            "Epoch 20/100\n",
            "279/279 - 1s - loss: 1507029.5000 - 868ms/epoch - 3ms/step\n",
            "Epoch 21/100\n",
            "279/279 - 1s - loss: 1403102.7500 - 851ms/epoch - 3ms/step\n",
            "Epoch 22/100\n",
            "279/279 - 1s - loss: 1307024.3750 - 895ms/epoch - 3ms/step\n",
            "Epoch 23/100\n",
            "279/279 - 1s - loss: 1218058.6250 - 886ms/epoch - 3ms/step\n",
            "Epoch 24/100\n",
            "279/279 - 1s - loss: 1135457.3750 - 923ms/epoch - 3ms/step\n",
            "Epoch 25/100\n",
            "279/279 - 1s - loss: 1058578.8750 - 1s/epoch - 5ms/step\n",
            "Epoch 26/100\n",
            "279/279 - 1s - loss: 986897.4375 - 1s/epoch - 5ms/step\n",
            "Epoch 27/100\n",
            "279/279 - 1s - loss: 919991.5000 - 907ms/epoch - 3ms/step\n",
            "Epoch 28/100\n",
            "279/279 - 1s - loss: 857511.3750 - 863ms/epoch - 3ms/step\n",
            "Epoch 29/100\n",
            "279/279 - 1s - loss: 799165.4375 - 858ms/epoch - 3ms/step\n",
            "Epoch 30/100\n",
            "279/279 - 1s - loss: 744696.5625 - 856ms/epoch - 3ms/step\n",
            "Epoch 31/100\n",
            "279/279 - 1s - loss: 693886.3750 - 865ms/epoch - 3ms/step\n",
            "Epoch 32/100\n",
            "279/279 - 1s - loss: 646544.3125 - 831ms/epoch - 3ms/step\n",
            "Epoch 33/100\n",
            "279/279 - 1s - loss: 602498.8750 - 856ms/epoch - 3ms/step\n",
            "Epoch 34/100\n",
            "279/279 - 1s - loss: 561603.8125 - 887ms/epoch - 3ms/step\n",
            "Epoch 35/100\n",
            "279/279 - 1s - loss: 523724.8125 - 856ms/epoch - 3ms/step\n",
            "Epoch 36/100\n",
            "279/279 - 1s - loss: 488744.8125 - 841ms/epoch - 3ms/step\n",
            "Epoch 37/100\n",
            "279/279 - 1s - loss: 456551.4375 - 838ms/epoch - 3ms/step\n",
            "Epoch 38/100\n",
            "279/279 - 1s - loss: 427042.0312 - 1s/epoch - 5ms/step\n",
            "Epoch 39/100\n",
            "279/279 - 1s - loss: 400116.8125 - 1s/epoch - 5ms/step\n",
            "Epoch 40/100\n",
            "279/279 - 1s - loss: 375678.8438 - 949ms/epoch - 3ms/step\n",
            "Epoch 41/100\n",
            "279/279 - 1s - loss: 353630.0625 - 878ms/epoch - 3ms/step\n",
            "Epoch 42/100\n",
            "279/279 - 1s - loss: 333869.5938 - 841ms/epoch - 3ms/step\n",
            "Epoch 43/100\n",
            "279/279 - 1s - loss: 316291.6562 - 853ms/epoch - 3ms/step\n",
            "Epoch 44/100\n",
            "279/279 - 1s - loss: 300786.0625 - 839ms/epoch - 3ms/step\n",
            "Epoch 45/100\n",
            "279/279 - 1s - loss: 287231.7812 - 886ms/epoch - 3ms/step\n",
            "Epoch 46/100\n",
            "279/279 - 1s - loss: 275501.5000 - 846ms/epoch - 3ms/step\n",
            "Epoch 47/100\n",
            "279/279 - 1s - loss: 265458.4375 - 860ms/epoch - 3ms/step\n",
            "Epoch 48/100\n",
            "279/279 - 1s - loss: 256957.2969 - 852ms/epoch - 3ms/step\n",
            "Epoch 49/100\n",
            "279/279 - 1s - loss: 249845.7812 - 864ms/epoch - 3ms/step\n",
            "Epoch 50/100\n",
            "279/279 - 1s - loss: 243967.3438 - 830ms/epoch - 3ms/step\n",
            "Epoch 51/100\n",
            "279/279 - 1s - loss: 239163.7656 - 942ms/epoch - 3ms/step\n",
            "Epoch 52/100\n",
            "279/279 - 1s - loss: 235280.7812 - 1s/epoch - 5ms/step\n",
            "Epoch 53/100\n",
            "279/279 - 1s - loss: 232169.3594 - 1s/epoch - 4ms/step\n",
            "Epoch 54/100\n",
            "279/279 - 1s - loss: 229692.7188 - 904ms/epoch - 3ms/step\n",
            "Epoch 55/100\n",
            "279/279 - 1s - loss: 227727.3906 - 908ms/epoch - 3ms/step\n",
            "Epoch 56/100\n",
            "279/279 - 1s - loss: 226167.2969 - 905ms/epoch - 3ms/step\n",
            "Epoch 57/100\n",
            "279/279 - 1s - loss: 224922.4688 - 836ms/epoch - 3ms/step\n",
            "Epoch 58/100\n",
            "279/279 - 1s - loss: 223919.8281 - 858ms/epoch - 3ms/step\n",
            "Epoch 59/100\n",
            "279/279 - 1s - loss: 223101.6250 - 852ms/epoch - 3ms/step\n",
            "Epoch 60/100\n",
            "279/279 - 1s - loss: 222421.9375 - 861ms/epoch - 3ms/step\n",
            "Epoch 61/100\n",
            "279/279 - 1s - loss: 221846.9844 - 865ms/epoch - 3ms/step\n",
            "Epoch 62/100\n",
            "279/279 - 1s - loss: 221350.6719 - 877ms/epoch - 3ms/step\n",
            "Epoch 63/100\n",
            "279/279 - 1s - loss: 220913.5312 - 913ms/epoch - 3ms/step\n",
            "Epoch 64/100\n",
            "279/279 - 1s - loss: 220521.5312 - 839ms/epoch - 3ms/step\n",
            "Epoch 65/100\n",
            "279/279 - 1s - loss: 220163.8906 - 1s/epoch - 5ms/step\n",
            "Epoch 66/100\n",
            "279/279 - 1s - loss: 219832.9375 - 1s/epoch - 5ms/step\n",
            "Epoch 67/100\n",
            "279/279 - 1s - loss: 219523.1875 - 908ms/epoch - 3ms/step\n",
            "Epoch 68/100\n",
            "279/279 - 1s - loss: 219230.3438 - 904ms/epoch - 3ms/step\n",
            "Epoch 69/100\n",
            "279/279 - 1s - loss: 218950.9219 - 1s/epoch - 4ms/step\n",
            "Epoch 70/100\n",
            "279/279 - 1s - loss: 218682.7031 - 1s/epoch - 5ms/step\n",
            "Epoch 71/100\n",
            "279/279 - 1s - loss: 218424.5000 - 1s/epoch - 5ms/step\n",
            "Epoch 72/100\n",
            "279/279 - 1s - loss: 218173.6562 - 1s/epoch - 4ms/step\n",
            "Epoch 73/100\n",
            "279/279 - 1s - loss: 217930.2344 - 879ms/epoch - 3ms/step\n",
            "Epoch 74/100\n",
            "279/279 - 1s - loss: 217692.4688 - 833ms/epoch - 3ms/step\n",
            "Epoch 75/100\n",
            "279/279 - 1s - loss: 217460.6562 - 845ms/epoch - 3ms/step\n",
            "Epoch 76/100\n",
            "279/279 - 1s - loss: 217233.4062 - 1s/epoch - 5ms/step\n",
            "Epoch 77/100\n",
            "279/279 - 3s - loss: 217010.3438 - 3s/epoch - 10ms/step\n",
            "Epoch 78/100\n",
            "279/279 - 2s - loss: 216791.7344 - 2s/epoch - 7ms/step\n",
            "Epoch 79/100\n",
            "279/279 - 2s - loss: 216576.3906 - 2s/epoch - 6ms/step\n",
            "Epoch 80/100\n",
            "279/279 - 1s - loss: 216364.6562 - 1s/epoch - 4ms/step\n",
            "Epoch 81/100\n",
            "279/279 - 1s - loss: 216155.9688 - 869ms/epoch - 3ms/step\n",
            "Epoch 82/100\n",
            "279/279 - 1s - loss: 215950.7188 - 861ms/epoch - 3ms/step\n",
            "Epoch 83/100\n",
            "279/279 - 1s - loss: 215747.6406 - 896ms/epoch - 3ms/step\n",
            "Epoch 84/100\n",
            "279/279 - 1s - loss: 215547.5469 - 896ms/epoch - 3ms/step\n",
            "Epoch 85/100\n",
            "279/279 - 1s - loss: 215349.9844 - 846ms/epoch - 3ms/step\n",
            "Epoch 86/100\n",
            "279/279 - 1s - loss: 215154.2500 - 1s/epoch - 5ms/step\n",
            "Epoch 87/100\n",
            "279/279 - 1s - loss: 214960.8438 - 1s/epoch - 5ms/step\n",
            "Epoch 88/100\n",
            "279/279 - 1s - loss: 214769.9844 - 880ms/epoch - 3ms/step\n",
            "Epoch 89/100\n",
            "279/279 - 1s - loss: 214580.8281 - 928ms/epoch - 3ms/step\n",
            "Epoch 90/100\n",
            "279/279 - 1s - loss: 214393.6562 - 925ms/epoch - 3ms/step\n",
            "Epoch 91/100\n",
            "279/279 - 1s - loss: 214208.1719 - 856ms/epoch - 3ms/step\n",
            "Epoch 92/100\n",
            "279/279 - 1s - loss: 214024.7188 - 889ms/epoch - 3ms/step\n",
            "Epoch 93/100\n",
            "279/279 - 1s - loss: 213842.7656 - 923ms/epoch - 3ms/step\n",
            "Epoch 94/100\n",
            "279/279 - 1s - loss: 213662.3125 - 908ms/epoch - 3ms/step\n",
            "Epoch 95/100\n",
            "279/279 - 1s - loss: 213483.5938 - 873ms/epoch - 3ms/step\n",
            "Epoch 96/100\n",
            "279/279 - 1s - loss: 213306.1562 - 870ms/epoch - 3ms/step\n",
            "Epoch 97/100\n",
            "279/279 - 1s - loss: 213130.3594 - 842ms/epoch - 3ms/step\n",
            "Epoch 98/100\n",
            "279/279 - 1s - loss: 212955.6875 - 824ms/epoch - 3ms/step\n",
            "Epoch 99/100\n",
            "279/279 - 1s - loss: 212782.5000 - 1s/epoch - 4ms/step\n",
            "Epoch 100/100\n",
            "279/279 - 1s - loss: 212610.4688 - 1s/epoch - 5ms/step\n"
          ]
        }
      ]
    },
    {
      "cell_type": "code",
      "source": [
        "y_pred= lstm.predict(X_test)"
      ],
      "metadata": {
        "id": "BSNLSGfWiToH",
        "outputId": "8f27a820-aa97-4713-ba33-845272fd5a4a",
        "colab": {
          "base_uri": "https://localhost:8080/"
        }
      },
      "execution_count": 47,
      "outputs": [
        {
          "output_type": "stream",
          "name": "stdout",
          "text": [
            "4/4 [==============================] - 0s 3ms/step\n"
          ]
        }
      ]
    },
    {
      "cell_type": "code",
      "source": [
        "plt.plot(y_test, label='True Value')\n",
        "plt.plot(y_pred, label='LSTM Value')\n",
        "plt.title('Prediction by LSTM')\n",
        "plt.xlabel('Time Scale')\n",
        "plt.ylabel('Scaled USD')\n",
        "plt.legend()\n",
        "plt.show()"
      ],
      "metadata": {
        "id": "xFK1ujG7it3E",
        "outputId": "df74d6b8-27dd-429a-c837-57c8ff947ef0",
        "colab": {
          "base_uri": "https://localhost:8080/",
          "height": 295
        }
      },
      "execution_count": 48,
      "outputs": [
        {
          "output_type": "display_data",
          "data": {
            "text/plain": [
              "<Figure size 432x288 with 1 Axes>"
            ],
            "image/png": "[encoded data removed]"
          },
          "metadata": {
            "needs_background": "light"
          }
        }
      ]
    },
    {
      "cell_type": "code",
      "source": [
        "rmse = mean_squared_error(y_test,y_pred, squared=False)\n",
        "mape = mean_absolute_percentage_error(y_test,y_pred)"
      ],
      "metadata": {
        "id": "Gx9zYRThiyQ1"
      },
      "execution_count": 53,
      "outputs": []
    },
    {
      "cell_type": "code",
      "source": [
        "print('RSME:', rmse)\n",
        "print('MAPE: ', mape)"
      ],
      "metadata": {
        "id": "cHHXjVqZmnxS",
        "outputId": "f4a7f052-64ec-432d-ea92-ffc58d2ebb65",
        "colab": {
          "base_uri": "https://localhost:8080/"
        }
      },
      "execution_count": 54,
      "outputs": [
        {
          "output_type": "stream",
          "name": "stdout",
          "text": [
            "RSME: 166.4223373758712\n",
            "MAPE:  0.007288272262577867\n"
          ]
        }
      ]
    },
    {
      "cell_type": "code",
      "source": [],
      "metadata": {
        "id": "UGAaZp9gnKux"
      },
      "execution_count": null,
      "outputs": []
    }
  ]
}